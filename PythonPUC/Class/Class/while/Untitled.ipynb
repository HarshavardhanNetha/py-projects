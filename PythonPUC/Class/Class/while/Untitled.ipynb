{
 "cells": [
  {
   "cell_type": "code",
   "execution_count": 3,
   "metadata": {
    "scrolled": true
   },
   "outputs": [
    {
     "name": "stdout",
     "output_type": "stream",
     "text": [
      "Enter -1 to exit...\n",
      "Enter a number:2\n",
      "Enter a number:3\n",
      "Enter a number:4\n",
      "Enter a number:-1\n",
      "Count of postive values is 3\n",
      "Sum of postive values is 9\n",
      "Count of negative values is 0\n",
      "Sum of negative values is 0\n",
      "Count of zeroes is 0\n"
     ]
    }
   ],
   "source": [
    "print('Enter -1 to exit...')\n",
    "pos_count=neg_count=zeroes=sum1=sum2=0\n",
    "while(1):\n",
    "\ta=int(input('Enter a number:'))\n",
    "\tif(a==-1):\n",
    "\t\tbreak\n",
    "\telif(a>0):\n",
    "\t\tsum1+=a\n",
    "\t\tpos_count+=1\n",
    "\telif(a<0):\n",
    "\t\tsum2+=a\n",
    "\t\tneg_count+=1\n",
    "\telse:\n",
    "\t\tzeroes+=1\n",
    "print('Count of postive values is',pos_count)\n",
    "print('Sum of postive values is',sum1)\n",
    "print('Count of negative values is',neg_count)\n",
    "print('Sum of negative values is',sum2)\n",
    "print('Count of zeroes is',zeroes)\n"
   ]
  },
  {
   "cell_type": "code",
   "execution_count": null,
   "metadata": {},
   "outputs": [],
   "source": []
  },
  {
   "cell_type": "code",
   "execution_count": null,
   "metadata": {},
   "outputs": [],
   "source": []
  }
 ],
 "metadata": {
  "kernelspec": {
   "display_name": "Python 3",
   "language": "python",
   "name": "python3"
  },
  "language_info": {
   "codemirror_mode": {
    "name": "ipython",
    "version": 3
   },
   "file_extension": ".py",
   "mimetype": "text/x-python",
   "name": "python",
   "nbconvert_exporter": "python",
   "pygments_lexer": "ipython3",
   "version": "3.6.5"
  }
 },
 "nbformat": 4,
 "nbformat_minor": 2
}
